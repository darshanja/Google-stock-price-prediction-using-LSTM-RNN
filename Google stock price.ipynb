{
  "cells": [
    {
      "metadata": {
        "trusted": true
      },
      "cell_type": "code",
      "source": "import numpy as np\nimport matplotlib.pyplot as plt\nimport pandas as pd",
      "execution_count": 1,
      "outputs": []
    },
    {
      "metadata": {
        "trusted": true
      },
      "cell_type": "code",
      "source": "dataset_train = pd.read_csv('Google_Stock_Price_Train.csv')",
      "execution_count": 2,
      "outputs": []
    },
    {
      "metadata": {
        "trusted": true
      },
      "cell_type": "code",
      "source": "dataset_train.head()",
      "execution_count": 3,
      "outputs": [
        {
          "output_type": "execute_result",
          "execution_count": 3,
          "data": {
            "text/html": "<div>\n<style scoped>\n    .dataframe tbody tr th:only-of-type {\n        vertical-align: middle;\n    }\n\n    .dataframe tbody tr th {\n        vertical-align: top;\n    }\n\n    .dataframe thead th {\n        text-align: right;\n    }\n</style>\n<table border=\"1\" class=\"dataframe\">\n  <thead>\n    <tr style=\"text-align: right;\">\n      <th></th>\n      <th>Date</th>\n      <th>Open</th>\n      <th>High</th>\n      <th>Low</th>\n      <th>Close</th>\n      <th>Volume</th>\n    </tr>\n  </thead>\n  <tbody>\n    <tr>\n      <th>0</th>\n      <td>1/3/2012</td>\n      <td>325.25</td>\n      <td>332.83</td>\n      <td>324.97</td>\n      <td>663.59</td>\n      <td>7,380,500</td>\n    </tr>\n    <tr>\n      <th>1</th>\n      <td>1/4/2012</td>\n      <td>331.27</td>\n      <td>333.87</td>\n      <td>329.08</td>\n      <td>666.45</td>\n      <td>5,749,400</td>\n    </tr>\n    <tr>\n      <th>2</th>\n      <td>1/5/2012</td>\n      <td>329.83</td>\n      <td>330.75</td>\n      <td>326.89</td>\n      <td>657.21</td>\n      <td>6,590,300</td>\n    </tr>\n    <tr>\n      <th>3</th>\n      <td>1/6/2012</td>\n      <td>328.34</td>\n      <td>328.77</td>\n      <td>323.68</td>\n      <td>648.24</td>\n      <td>5,405,900</td>\n    </tr>\n    <tr>\n      <th>4</th>\n      <td>1/9/2012</td>\n      <td>322.04</td>\n      <td>322.29</td>\n      <td>309.46</td>\n      <td>620.76</td>\n      <td>11,688,800</td>\n    </tr>\n  </tbody>\n</table>\n</div>",
            "text/plain": "       Date    Open    High     Low   Close      Volume\n0  1/3/2012  325.25  332.83  324.97  663.59   7,380,500\n1  1/4/2012  331.27  333.87  329.08  666.45   5,749,400\n2  1/5/2012  329.83  330.75  326.89  657.21   6,590,300\n3  1/6/2012  328.34  328.77  323.68  648.24   5,405,900\n4  1/9/2012  322.04  322.29  309.46  620.76  11,688,800"
          },
          "metadata": {}
        }
      ]
    },
    {
      "metadata": {
        "trusted": true
      },
      "cell_type": "code",
      "source": "training_set = dataset_train.iloc[:, 1:2].values",
      "execution_count": 4,
      "outputs": []
    },
    {
      "metadata": {
        "trusted": true
      },
      "cell_type": "code",
      "source": "training_set",
      "execution_count": 7,
      "outputs": [
        {
          "output_type": "execute_result",
          "execution_count": 7,
          "data": {
            "text/plain": "array([[325.25],\n       [331.27],\n       [329.83],\n       ...,\n       [793.7 ],\n       [783.33],\n       [782.75]])"
          },
          "metadata": {}
        }
      ]
    },
    {
      "metadata": {
        "trusted": true
      },
      "cell_type": "code",
      "source": "from sklearn.preprocessing import MinMaxScaler",
      "execution_count": 6,
      "outputs": []
    },
    {
      "metadata": {
        "trusted": true
      },
      "cell_type": "code",
      "source": "sc = MinMaxScaler(feature_range = (0, 1))",
      "execution_count": 8,
      "outputs": []
    },
    {
      "metadata": {
        "trusted": true
      },
      "cell_type": "code",
      "source": "training_set_scaled = sc.fit_transform(training_set)",
      "execution_count": 9,
      "outputs": []
    },
    {
      "metadata": {
        "trusted": true
      },
      "cell_type": "code",
      "source": "training_set_scaled",
      "execution_count": 11,
      "outputs": [
        {
          "output_type": "execute_result",
          "execution_count": 11,
          "data": {
            "text/plain": "array([[0.08581368],\n       [0.09701243],\n       [0.09433366],\n       ...,\n       [0.95725128],\n       [0.93796041],\n       [0.93688146]])"
          },
          "metadata": {}
        }
      ]
    },
    {
      "metadata": {
        "trusted": true
      },
      "cell_type": "code",
      "source": "X_train = []\ny_train = []",
      "execution_count": 10,
      "outputs": []
    },
    {
      "metadata": {
        "trusted": true
      },
      "cell_type": "code",
      "source": "for i in range(60, 1258):\n    X_train.append(training_set_scaled[i-60:i, 0])\n    y_train.append(training_set_scaled[i, 0])",
      "execution_count": 12,
      "outputs": []
    },
    {
      "metadata": {
        "trusted": true
      },
      "cell_type": "code",
      "source": "X_train, y_train = np.array(X_train), np.array(y_train)",
      "execution_count": 13,
      "outputs": []
    },
    {
      "metadata": {
        "trusted": true
      },
      "cell_type": "code",
      "source": "X_train",
      "execution_count": 14,
      "outputs": [
        {
          "output_type": "execute_result",
          "execution_count": 14,
          "data": {
            "text/plain": "array([[0.08581368, 0.09701243, 0.09433366, ..., 0.07846566, 0.08034452,\n        0.08497656],\n       [0.09701243, 0.09433366, 0.09156187, ..., 0.08034452, 0.08497656,\n        0.08627874],\n       [0.09433366, 0.09156187, 0.07984225, ..., 0.08497656, 0.08627874,\n        0.08471612],\n       ...,\n       [0.92106928, 0.92438053, 0.93048218, ..., 0.95475854, 0.95204256,\n        0.95163331],\n       [0.92438053, 0.93048218, 0.9299055 , ..., 0.95204256, 0.95163331,\n        0.95725128],\n       [0.93048218, 0.9299055 , 0.93113327, ..., 0.95163331, 0.95725128,\n        0.93796041]])"
          },
          "metadata": {}
        }
      ]
    },
    {
      "metadata": {
        "trusted": true
      },
      "cell_type": "code",
      "source": "y_train",
      "execution_count": 15,
      "outputs": [
        {
          "output_type": "execute_result",
          "execution_count": 15,
          "data": {
            "text/plain": "array([0.08627874, 0.08471612, 0.07454052, ..., 0.95725128, 0.93796041,\n       0.93688146])"
          },
          "metadata": {}
        }
      ]
    },
    {
      "metadata": {
        "trusted": true
      },
      "cell_type": "code",
      "source": "X_train = np.reshape(X_train, (X_train.shape[0], X_train.shape[1], 1))",
      "execution_count": 16,
      "outputs": []
    },
    {
      "metadata": {
        "trusted": true
      },
      "cell_type": "code",
      "source": "X_train",
      "execution_count": 17,
      "outputs": [
        {
          "output_type": "execute_result",
          "execution_count": 17,
          "data": {
            "text/plain": "array([[[0.08581368],\n        [0.09701243],\n        [0.09433366],\n        ...,\n        [0.07846566],\n        [0.08034452],\n        [0.08497656]],\n\n       [[0.09701243],\n        [0.09433366],\n        [0.09156187],\n        ...,\n        [0.08034452],\n        [0.08497656],\n        [0.08627874]],\n\n       [[0.09433366],\n        [0.09156187],\n        [0.07984225],\n        ...,\n        [0.08497656],\n        [0.08627874],\n        [0.08471612]],\n\n       ...,\n\n       [[0.92106928],\n        [0.92438053],\n        [0.93048218],\n        ...,\n        [0.95475854],\n        [0.95204256],\n        [0.95163331]],\n\n       [[0.92438053],\n        [0.93048218],\n        [0.9299055 ],\n        ...,\n        [0.95204256],\n        [0.95163331],\n        [0.95725128]],\n\n       [[0.93048218],\n        [0.9299055 ],\n        [0.93113327],\n        ...,\n        [0.95163331],\n        [0.95725128],\n        [0.93796041]]])"
          },
          "metadata": {}
        }
      ]
    },
    {
      "metadata": {
        "trusted": true
      },
      "cell_type": "code",
      "source": "X_train.shape",
      "execution_count": 20,
      "outputs": [
        {
          "output_type": "execute_result",
          "execution_count": 20,
          "data": {
            "text/plain": "(1198, 60, 1)"
          },
          "metadata": {}
        }
      ]
    },
    {
      "metadata": {
        "trusted": true
      },
      "cell_type": "code",
      "source": "from keras.models import Sequential\nfrom keras.layers import Dense\nfrom keras.layers import LSTM\nfrom keras.layers import Dropout",
      "execution_count": 18,
      "outputs": [
        {
          "output_type": "stream",
          "text": "Using TensorFlow backend.\n",
          "name": "stderr"
        }
      ]
    },
    {
      "metadata": {
        "trusted": true
      },
      "cell_type": "code",
      "source": "regressor = Sequential()",
      "execution_count": 19,
      "outputs": []
    },
    {
      "metadata": {
        "trusted": true
      },
      "cell_type": "code",
      "source": "regressor.add(LSTM(units = 50, return_sequences = True, input_shape = (X_train.shape[1], 1)))",
      "execution_count": 21,
      "outputs": []
    },
    {
      "metadata": {
        "trusted": true
      },
      "cell_type": "code",
      "source": "regressor.add(Dropout(0.2))",
      "execution_count": 22,
      "outputs": []
    },
    {
      "metadata": {
        "trusted": true
      },
      "cell_type": "code",
      "source": "regressor.add(LSTM(units = 50, return_sequences = True))\nregressor.add(Dropout(0.2))",
      "execution_count": 23,
      "outputs": []
    },
    {
      "metadata": {
        "trusted": true
      },
      "cell_type": "code",
      "source": "regressor.add(LSTM(units = 50, return_sequences = True))\nregressor.add(Dropout(0.2))",
      "execution_count": 24,
      "outputs": []
    },
    {
      "metadata": {
        "trusted": true
      },
      "cell_type": "code",
      "source": "regressor.add(LSTM(units = 50))\nregressor.add(Dropout(0.2))",
      "execution_count": 25,
      "outputs": []
    },
    {
      "metadata": {
        "trusted": true
      },
      "cell_type": "code",
      "source": "regressor.add(Dense(units = 1))",
      "execution_count": 26,
      "outputs": []
    },
    {
      "metadata": {
        "trusted": true
      },
      "cell_type": "code",
      "source": "regressor.compile(optimizer = 'adam', loss = 'mean_squared_error')",
      "execution_count": 27,
      "outputs": []
    },
    {
      "metadata": {
        "trusted": true
      },
      "cell_type": "code",
      "source": "regressor.fit(X_train, y_train, epochs = 100, batch_size = 32)",
      "execution_count": 28,
      "outputs": [
        {
          "output_type": "stream",
          "text": "Epoch 1/100\n1198/1198 [==============================] - 46s 38ms/step - loss: 0.0532\nEpoch 2/100\n1198/1198 [==============================] - 23s 19ms/step - loss: 0.0080\nEpoch 3/100\n1198/1198 [==============================] - 23s 19ms/step - loss: 0.0055\nEpoch 4/100\n1198/1198 [==============================] - 22s 19ms/step - loss: 0.0053\nEpoch 5/100\n1198/1198 [==============================] - 23s 19ms/step - loss: 0.0053\nEpoch 6/100\n1198/1198 [==============================] - 23s 19ms/step - loss: 0.0056\nEpoch 7/100\n1198/1198 [==============================] - 23s 19ms/step - loss: 0.0047\nEpoch 8/100\n1198/1198 [==============================] - 24s 20ms/step - loss: 0.0049\nEpoch 9/100\n1198/1198 [==============================] - 22s 18ms/step - loss: 0.0055\nEpoch 10/100\n1198/1198 [==============================] - 23s 19ms/step - loss: 0.0052\nEpoch 11/100\n1198/1198 [==============================] - 23s 19ms/step - loss: 0.0040\nEpoch 12/100\n1198/1198 [==============================] - 22s 19ms/step - loss: 0.0046\nEpoch 13/100\n1198/1198 [==============================] - 23s 19ms/step - loss: 0.0043\nEpoch 14/100\n1198/1198 [==============================] - 23s 20ms/step - loss: 0.0046\nEpoch 15/100\n1198/1198 [==============================] - 23s 19ms/step - loss: 0.0036\nEpoch 16/100\n1198/1198 [==============================] - 22s 18ms/step - loss: 0.0038\nEpoch 17/100\n1198/1198 [==============================] - 24s 20ms/step - loss: 0.0039\nEpoch 18/100\n1198/1198 [==============================] - 26s 22ms/step - loss: 0.0035\nEpoch 19/100\n1198/1198 [==============================] - 24s 20ms/step - loss: 0.0038\nEpoch 20/100\n1198/1198 [==============================] - 24s 20ms/step - loss: 0.0037\nEpoch 21/100\n1198/1198 [==============================] - 25s 21ms/step - loss: 0.0034\nEpoch 22/100\n1198/1198 [==============================] - 23s 19ms/step - loss: 0.0034\nEpoch 23/100\n1198/1198 [==============================] - 23s 19ms/step - loss: 0.0037\nEpoch 24/100\n1198/1198 [==============================] - 23s 19ms/step - loss: 0.0034\nEpoch 25/100\n1198/1198 [==============================] - 23s 20ms/step - loss: 0.0030\nEpoch 26/100\n1198/1198 [==============================] - 24s 20ms/step - loss: 0.0034\nEpoch 27/100\n1198/1198 [==============================] - 23s 19ms/step - loss: 0.0031\nEpoch 28/100\n1198/1198 [==============================] - 23s 19ms/step - loss: 0.0028\nEpoch 29/100\n1198/1198 [==============================] - 22s 18ms/step - loss: 0.0028\nEpoch 30/100\n1198/1198 [==============================] - 23s 19ms/step - loss: 0.0031\nEpoch 31/100\n1198/1198 [==============================] - 22s 18ms/step - loss: 0.0030\nEpoch 32/100\n1198/1198 [==============================] - 24s 20ms/step - loss: 0.0027\nEpoch 33/100\n1198/1198 [==============================] - 25s 21ms/step - loss: 0.0030\nEpoch 34/100\n1198/1198 [==============================] - 25s 21ms/step - loss: 0.0029\nEpoch 35/100\n1198/1198 [==============================] - 27s 22ms/step - loss: 0.0026\nEpoch 37/100\n1198/1198 [==============================] - 26s 22ms/step - loss: 0.0026\nEpoch 38/100\n1198/1198 [==============================] - 24s 20ms/step - loss: 0.0027\nEpoch 39/100\n1198/1198 [==============================] - 25s 21ms/step - loss: 0.0028\nEpoch 40/100\n1198/1198 [==============================] - 22s 19ms/step - loss: 0.0028\nEpoch 41/100\n1198/1198 [==============================] - 22s 18ms/step - loss: 0.0026\nEpoch 42/100\n1198/1198 [==============================] - 22s 19ms/step - loss: 0.0028\nEpoch 43/100\n1198/1198 [==============================] - 22s 19ms/step - loss: 0.0033\nEpoch 44/100\n1198/1198 [==============================] - 23s 19ms/step - loss: 0.0025\nEpoch 45/100\n1198/1198 [==============================] - 22s 19ms/step - loss: 0.0028\nEpoch 46/100\n1198/1198 [==============================] - 22s 18ms/step - loss: 0.0025\nEpoch 47/100\n1198/1198 [==============================] - 23s 19ms/step - loss: 0.0025\nEpoch 48/100\n1198/1198 [==============================] - 22s 18ms/step - loss: 0.0023\nEpoch 49/100\n1198/1198 [==============================] - 22s 18ms/step - loss: 0.0026\nEpoch 50/100\n1198/1198 [==============================] - 23s 19ms/step - loss: 0.0026\nEpoch 51/100\n1198/1198 [==============================] - 22s 18ms/step - loss: 0.0032\nEpoch 52/100\n1198/1198 [==============================] - 22s 19ms/step - loss: 0.0025\nEpoch 53/100\n1198/1198 [==============================] - 23s 19ms/step - loss: 0.0022\nEpoch 54/100\n1198/1198 [==============================] - 22s 18ms/step - loss: 0.0024\nEpoch 55/100\n1198/1198 [==============================] - 23s 19ms/step - loss: 0.0022\nEpoch 56/100\n1198/1198 [==============================] - 23s 19ms/step - loss: 0.0025\nEpoch 57/100\n1198/1198 [==============================] - 24s 20ms/step - loss: 0.0023\nEpoch 58/100\n1198/1198 [==============================] - 22s 18ms/step - loss: 0.0020\nEpoch 59/100\n1198/1198 [==============================] - 24s 20ms/step - loss: 0.0021\nEpoch 60/100\n1198/1198 [==============================] - 24s 20ms/step - loss: 0.0020\nEpoch 61/100\n1198/1198 [==============================] - 22s 19ms/step - loss: 0.0025\nEpoch 62/100\n1198/1198 [==============================] - 23s 20ms/step - loss: 0.0023\nEpoch 63/100\n1198/1198 [==============================] - 22s 19ms/step - loss: 0.0020\nEpoch 64/100\n1198/1198 [==============================] - 23s 19ms/step - loss: 0.0020\nEpoch 65/100\n1198/1198 [==============================] - 26s 22ms/step - loss: 0.0021\nEpoch 66/100\n1198/1198 [==============================] - 27s 23ms/step - loss: 0.0019\nEpoch 67/100\n1198/1198 [==============================] - 27s 22ms/step - loss: 0.0021\nEpoch 68/100\n1198/1198 [==============================] - 26s 22ms/step - loss: 0.0022\nEpoch 69/100\n1198/1198 [==============================] - 27s 22ms/step - loss: 0.0019\nEpoch 70/100\n1198/1198 [==============================] - 25s 21ms/step - loss: 0.0019\nEpoch 71/100\n1198/1198 [==============================] - 23s 19ms/step - loss: 0.0018\nEpoch 72/100\n1198/1198 [==============================] - 23s 19ms/step - loss: 0.0018\nEpoch 73/100\n1198/1198 [==============================] - 23s 19ms/step - loss: 0.0019\nEpoch 74/100\n1198/1198 [==============================] - 22s 19ms/step - loss: 0.0019\nEpoch 75/100\n1198/1198 [==============================] - 24s 20ms/step - loss: 0.0019\nEpoch 76/100\n1198/1198 [==============================] - 23s 19ms/step - loss: 0.0018\nEpoch 77/100\n1198/1198 [==============================] - 23s 19ms/step - loss: 0.0017\nEpoch 78/100\n1198/1198 [==============================] - 24s 20ms/step - loss: 0.0017\nEpoch 79/100\n1198/1198 [==============================] - 23s 19ms/step - loss: 0.0018\nEpoch 80/100\n1198/1198 [==============================] - 23s 19ms/step - loss: 0.0017\nEpoch 81/100\n1198/1198 [==============================] - 23s 19ms/step - loss: 0.0016\nEpoch 82/100\n1198/1198 [==============================] - 24s 20ms/step - loss: 0.0016\nEpoch 83/100\n1198/1198 [==============================] - 25s 20ms/step - loss: 0.0019\nEpoch 84/100\n1198/1198 [==============================] - 24s 20ms/step - loss: 0.0017\nEpoch 85/100\n1198/1198 [==============================] - 25s 21ms/step - loss: 0.0020\nEpoch 86/100\n1198/1198 [==============================] - 24s 20ms/step - loss: 0.0017\nEpoch 87/100\n1198/1198 [==============================] - 24s 20ms/step - loss: 0.0017\nEpoch 88/100\n1198/1198 [==============================] - 24s 20ms/step - loss: 0.0016\nEpoch 89/100\n1198/1198 [==============================] - 22s 19ms/step - loss: 0.0016\nEpoch 90/100\n1198/1198 [==============================] - 23s 19ms/step - loss: 0.0019\nEpoch 91/100\n1198/1198 [==============================] - 25s 21ms/step - loss: 0.0018\nEpoch 92/100\n1198/1198 [==============================] - 22s 19ms/step - loss: 0.0018\nEpoch 93/100\n1198/1198 [==============================] - 24s 20ms/step - loss: 0.0018\nEpoch 94/100\n1198/1198 [==============================] - 25s 21ms/step - loss: 0.0015\nEpoch 95/100\n1198/1198 [==============================] - 24s 20ms/step - loss: 0.0016\nEpoch 96/100\n",
          "name": "stdout"
        },
        {
          "output_type": "stream",
          "text": "1198/1198 [==============================] - 23s 19ms/step - loss: 0.0014\nEpoch 97/100\n1198/1198 [==============================] - 24s 20ms/step - loss: 0.0015\nEpoch 98/100\n1198/1198 [==============================] - 23s 20ms/step - loss: 0.0015\nEpoch 99/100\n1198/1198 [==============================] - 24s 20ms/step - loss: 0.0014\nEpoch 100/100\n1198/1198 [==============================] - 25s 20ms/step - loss: 0.0015\n",
          "name": "stdout"
        },
        {
          "output_type": "execute_result",
          "execution_count": 28,
          "data": {
            "text/plain": "<keras.callbacks.History at 0x7f8e01bb1f98>"
          },
          "metadata": {}
        }
      ]
    },
    {
      "metadata": {
        "trusted": true
      },
      "cell_type": "code",
      "source": "dataset_test = pd.read_csv('Google_Stock_Price_Test.csv')\nreal_stock_price = dataset_test.iloc[:, 1:2].values",
      "execution_count": 29,
      "outputs": []
    },
    {
      "metadata": {
        "trusted": true
      },
      "cell_type": "code",
      "source": "dataset_total = pd.concat((dataset_train['Open'], dataset_test['Open']), axis = 0)",
      "execution_count": 30,
      "outputs": []
    },
    {
      "metadata": {
        "trusted": true
      },
      "cell_type": "code",
      "source": "inputs = dataset_total[len(dataset_total) - len(dataset_test) - 60:].values",
      "execution_count": 31,
      "outputs": []
    },
    {
      "metadata": {
        "trusted": true
      },
      "cell_type": "code",
      "source": "inputs = inputs.reshape(-1,1)",
      "execution_count": 32,
      "outputs": []
    },
    {
      "metadata": {
        "trusted": true
      },
      "cell_type": "code",
      "source": "inputs = sc.transform(inputs)",
      "execution_count": 33,
      "outputs": []
    },
    {
      "metadata": {
        "trusted": true
      },
      "cell_type": "code",
      "source": "X_test = []",
      "execution_count": 34,
      "outputs": []
    },
    {
      "metadata": {
        "trusted": true
      },
      "cell_type": "code",
      "source": "for i in range(60, 80):\n    X_test.append(inputs[i-60:i, 0])",
      "execution_count": 35,
      "outputs": []
    },
    {
      "metadata": {
        "trusted": true
      },
      "cell_type": "code",
      "source": "X_test = np.array(X_test)",
      "execution_count": 36,
      "outputs": []
    },
    {
      "metadata": {
        "trusted": true
      },
      "cell_type": "code",
      "source": "X_test = np.reshape(X_test, (X_test.shape[0], X_test.shape[1], 1))",
      "execution_count": 37,
      "outputs": []
    },
    {
      "metadata": {
        "trusted": true
      },
      "cell_type": "code",
      "source": "predicted_stock_price = regressor.predict(X_test)",
      "execution_count": 38,
      "outputs": []
    },
    {
      "metadata": {
        "trusted": true
      },
      "cell_type": "code",
      "source": "predicted_stock_price",
      "execution_count": 39,
      "outputs": [
        {
          "output_type": "execute_result",
          "execution_count": 39,
          "data": {
            "text/plain": "array([[0.92103267],\n       [0.91617763],\n       [0.9154177 ],\n       [0.91731703],\n       [0.922889  ],\n       [0.9331589 ],\n       [0.9438696 ],\n       [0.94994426],\n       [0.9518982 ],\n       [0.9516429 ],\n       [0.95064807],\n       [0.9494461 ],\n       [0.9484333 ],\n       [0.94867563],\n       [0.95001054],\n       [0.95713913],\n       [0.96915376],\n       [0.9832387 ],\n       [0.99278295],\n       [0.98886096]], dtype=float32)"
          },
          "metadata": {}
        }
      ]
    },
    {
      "metadata": {
        "trusted": true
      },
      "cell_type": "code",
      "source": "predicted_stock_price = sc.inverse_transform(predicted_stock_price)",
      "execution_count": 40,
      "outputs": []
    },
    {
      "metadata": {
        "trusted": true
      },
      "cell_type": "code",
      "source": "predicted_stock_price",
      "execution_count": 41,
      "outputs": [
        {
          "output_type": "execute_result",
          "execution_count": 41,
          "data": {
            "text/plain": "array([[774.2303 ],\n       [771.6204 ],\n       [771.2119 ],\n       [772.2329 ],\n       [775.2282 ],\n       [780.74884],\n       [786.50653],\n       [789.77203],\n       [790.8224 ],\n       [790.6851 ],\n       [790.1503 ],\n       [789.5042 ],\n       [788.9598 ],\n       [789.09   ],\n       [789.8076 ],\n       [793.6397 ],\n       [800.09827],\n       [807.66974],\n       [812.80035],\n       [810.6921 ]], dtype=float32)"
          },
          "metadata": {}
        }
      ]
    },
    {
      "metadata": {
        "trusted": true
      },
      "cell_type": "code",
      "source": "plt.plot(real_stock_price, color = 'red', label = 'Real Google Stock Price')\nplt.plot(predicted_stock_price, color = 'blue', label = 'Predicted Google Stock Price')\nplt.title('Google Stock Price Prediction')\nplt.xlabel('Time')\nplt.ylabel('Google Stock Price')\nplt.legend()\nplt.show()",
      "execution_count": 42,
      "outputs": [
        {
          "output_type": "display_data",
          "data": {
            "image/png": "[encoded data removed]",
            "text/plain": "<Figure size 432x288 with 1 Axes>"
          },
          "metadata": {
            "needs_background": "light"
          }
        }
      ]
    },
    {
      "metadata": {
        "trusted": true
      },
      "cell_type": "code",
      "source": "",
      "execution_count": null,
      "outputs": []
    }
  ],
  "metadata": {
    "kernelspec": {
      "name": "python36",
      "display_name": "Python 3.6",
      "language": "python"
    },
    "language_info": {
      "mimetype": "text/x-python",
      "nbconvert_exporter": "python",
      "name": "python",
      "pygments_lexer": "ipython3",
      "version": "3.6.6",
      "file_extension": ".py",
      "codemirror_mode": {
        "version": 3,
        "name": "ipython"
      }
    }
  },
  "nbformat": 4,
  "nbformat_minor": 2
}